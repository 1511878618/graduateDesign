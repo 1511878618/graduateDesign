{
 "cells": [
  {
   "cell_type": "code",
   "execution_count": 3,
   "metadata": {
    "ExecuteTime": {
     "end_time": "2021-01-31T08:04:59.065045Z",
     "start_time": "2021-01-31T08:04:58.738168Z"
    }
   },
   "outputs": [],
   "source": [
    "import numpy as np \n",
    "from sklearn import  datasets\n",
    "import matplotlib.pyplot as plt"
   ]
  },
  {
   "cell_type": "markdown",
   "metadata": {},
   "source": [
    "设有m条n维数据\n",
    "\n",
    "1）把原始数据按列组成n行m列矩阵X\n",
    "\n",
    "2）将X的每一行（代表一个属性字段）进行零均值化，即减去这一行的均值\n",
    "\n",
    "3）求出协方差矩阵$$C=\\frac{1}{m}XX^𝖳$$\n",
    "\n",
    "4）求出协方差矩阵的特征值及对应的特征向量\n",
    "\n",
    "5）将特征向量按对应特征值大小从上到下按行排列成矩阵，取前k行组成矩阵P\n",
    "\n",
    "6)$$Y = PX $$即为降维到k维后的数据\n"
   ]
  },
  {
   "cell_type": "code",
   "execution_count": 4,
   "metadata": {
    "ExecuteTime": {
     "end_time": "2021-01-31T08:04:59.383024Z",
     "start_time": "2021-01-31T08:04:59.374434Z"
    }
   },
   "outputs": [
    {
     "data": {
      "text/plain": [
       "(5, 2)"
      ]
     },
     "execution_count": 4,
     "metadata": {},
     "output_type": "execute_result"
    }
   ],
   "source": [
    "a= np.array([[1,1],[1,3],[2,3],[4,4],[2,4]])\n",
    "a.shape "
   ]
  },
  {
   "cell_type": "code",
   "execution_count": 5,
   "metadata": {
    "ExecuteTime": {
     "end_time": "2021-01-31T08:04:59.570158Z",
     "start_time": "2021-01-31T08:04:59.561712Z"
    }
   },
   "outputs": [
    {
     "data": {
      "text/plain": [
       "array([[-1., -2.],\n",
       "       [-1.,  0.],\n",
       "       [ 0.,  0.],\n",
       "       [ 2.,  1.],\n",
       "       [ 0.,  1.]])"
      ]
     },
     "execution_count": 5,
     "metadata": {},
     "output_type": "execute_result"
    }
   ],
   "source": [
    "a = a - a.mean(axis=0)\n",
    "a "
   ]
  },
  {
   "cell_type": "code",
   "execution_count": 6,
   "metadata": {
    "ExecuteTime": {
     "end_time": "2021-01-31T08:04:59.755724Z",
     "start_time": "2021-01-31T08:04:59.749090Z"
    }
   },
   "outputs": [
    {
     "data": {
      "text/plain": [
       "array([[1.2, 0.8],\n",
       "       [0.8, 1.2]])"
      ]
     },
     "execution_count": 6,
     "metadata": {},
     "output_type": "execute_result"
    }
   ],
   "source": [
    "C = np.dot(a.T,a)/a.shape[0]\n",
    "C "
   ]
  },
  {
   "cell_type": "code",
   "execution_count": 7,
   "metadata": {
    "ExecuteTime": {
     "end_time": "2021-01-31T08:04:59.951384Z",
     "start_time": "2021-01-31T08:04:59.941729Z"
    }
   },
   "outputs": [
    {
     "data": {
      "text/plain": [
       "(array([2. , 0.4]),\n",
       " array([[ 0.70710678, -0.70710678],\n",
       "        [ 0.70710678,  0.70710678]]))"
      ]
     },
     "execution_count": 7,
     "metadata": {},
     "output_type": "execute_result"
    }
   ],
   "source": [
    "eig_val, eig_vec = np.linalg.eig(C)\n",
    "eig_val,eig_vec"
   ]
  },
  {
   "cell_type": "code",
   "execution_count": 8,
   "metadata": {
    "ExecuteTime": {
     "end_time": "2021-01-31T08:05:00.413315Z",
     "start_time": "2021-01-31T08:05:00.409674Z"
    }
   },
   "outputs": [],
   "source": [
    "P = eig_vec[:,0]"
   ]
  },
  {
   "cell_type": "code",
   "execution_count": 9,
   "metadata": {
    "ExecuteTime": {
     "end_time": "2021-01-31T08:05:00.880777Z",
     "start_time": "2021-01-31T08:05:00.875316Z"
    }
   },
   "outputs": [],
   "source": [
    "out = np.dot(P,a.T)"
   ]
  },
  {
   "cell_type": "code",
   "execution_count": 23,
   "metadata": {},
   "outputs": [
    {
     "data": {
      "text/plain": [
       "array([-2.12132034, -0.70710678,  0.        ,  2.12132034,  0.70710678])"
      ]
     },
     "execution_count": 23,
     "metadata": {},
     "output_type": "execute_result"
    }
   ],
   "source": [
    "out "
   ]
  },
  {
   "cell_type": "code",
   "execution_count": 10,
   "metadata": {
    "ExecuteTime": {
     "end_time": "2021-01-31T08:05:49.901266Z",
     "start_time": "2021-01-31T08:05:49.894012Z"
    }
   },
   "outputs": [],
   "source": [
    "def PCA(X,k):\n",
    "    \"\"\"\n",
    "    input：\n",
    "        X：原数据，np.array类型，shape=(n,m),n为样本数目，m为维度\n",
    "        k：降低到多少维\n",
    "    output:\n",
    "        Y：降维后的数据，shape=(n,k)\n",
    "    \"\"\"\n",
    "    number = X.shape[0]\n",
    "    dimension = X.shape[1]\n",
    "    X = X - X.mean(axis=0)\n",
    "    C = np.dot(X.T,X)/number\n",
    "    \n",
    "    eig_val,eig_vec = np.linalg.eig(C)\n",
    "    \n",
    "    eig_List = [(np.abs(eig_val[i]),eig_vec[:,i]) for i in range(dimension)]\n",
    "    eig_List.sort(reverse=True)\n",
    "    P = np.array([each_List[1] for each_List in eig_List[:k]])\n",
    "    Y = np.dot(X,P.T)\n",
    "    return Y"
   ]
  },
  {
   "cell_type": "code",
   "execution_count": 64,
   "metadata": {},
   "outputs": [],
   "source": [
    "X = datasets.load_iris().data "
   ]
  },
  {
   "cell_type": "code",
   "execution_count": 11,
   "metadata": {
    "ExecuteTime": {
     "end_time": "2021-01-31T08:06:02.757313Z",
     "start_time": "2021-01-31T08:06:02.750780Z"
    }
   },
   "outputs": [
    {
     "data": {
      "text/plain": [
       "array([[-2.12132034],\n",
       "       [-0.70710678],\n",
       "       [ 0.        ],\n",
       "       [ 2.12132034],\n",
       "       [ 0.70710678]])"
      ]
     },
     "execution_count": 11,
     "metadata": {},
     "output_type": "execute_result"
    }
   ],
   "source": [
    "PCA(a,1)"
   ]
  },
  {
   "cell_type": "code",
   "execution_count": 65,
   "metadata": {},
   "outputs": [
    {
     "ename": "TypeError",
     "evalue": "'axis' is an invalid keyword argument for sort()",
     "output_type": "error",
     "traceback": [
      "\u001b[0;31m---------------------------------------------------------------------------\u001b[0m",
      "\u001b[0;31mTypeError\u001b[0m                                 Traceback (most recent call last)",
      "\u001b[0;32m<ipython-input-65-f2114e694fc0>\u001b[0m in \u001b[0;36m<module>\u001b[0;34m\u001b[0m\n\u001b[0;32m----> 1\u001b[0;31m \u001b[0mX_trans\u001b[0m \u001b[0;34m=\u001b[0m \u001b[0mPCA\u001b[0m\u001b[0;34m(\u001b[0m\u001b[0mX\u001b[0m\u001b[0;34m,\u001b[0m\u001b[0;36m2\u001b[0m\u001b[0;34m)\u001b[0m\u001b[0;34m\u001b[0m\u001b[0;34m\u001b[0m\u001b[0m\n\u001b[0m\u001b[1;32m      2\u001b[0m \u001b[0mX_trans\u001b[0m\u001b[0;34m.\u001b[0m\u001b[0mshape\u001b[0m\u001b[0;34m\u001b[0m\u001b[0;34m\u001b[0m\u001b[0m\n",
      "\u001b[0;32m<ipython-input-63-0c5086db916b>\u001b[0m in \u001b[0;36mPCA\u001b[0;34m(X, k)\u001b[0m\n\u001b[1;32m     15\u001b[0m \u001b[0;34m\u001b[0m\u001b[0m\n\u001b[1;32m     16\u001b[0m     \u001b[0meig_List\u001b[0m \u001b[0;34m=\u001b[0m \u001b[0;34m[\u001b[0m\u001b[0;34m(\u001b[0m\u001b[0mnp\u001b[0m\u001b[0;34m.\u001b[0m\u001b[0mabs\u001b[0m\u001b[0;34m(\u001b[0m\u001b[0meig_val\u001b[0m\u001b[0;34m[\u001b[0m\u001b[0mi\u001b[0m\u001b[0;34m]\u001b[0m\u001b[0;34m)\u001b[0m\u001b[0;34m,\u001b[0m\u001b[0meig_vec\u001b[0m\u001b[0;34m[\u001b[0m\u001b[0;34m:\u001b[0m\u001b[0;34m,\u001b[0m\u001b[0mi\u001b[0m\u001b[0;34m]\u001b[0m\u001b[0;34m)\u001b[0m \u001b[0;32mfor\u001b[0m \u001b[0mi\u001b[0m \u001b[0;32min\u001b[0m \u001b[0mrange\u001b[0m\u001b[0;34m(\u001b[0m\u001b[0mdimension\u001b[0m\u001b[0;34m)\u001b[0m\u001b[0;34m]\u001b[0m\u001b[0;34m\u001b[0m\u001b[0;34m\u001b[0m\u001b[0m\n\u001b[0;32m---> 17\u001b[0;31m     \u001b[0meig_List\u001b[0m\u001b[0;34m.\u001b[0m\u001b[0msort\u001b[0m\u001b[0;34m(\u001b[0m\u001b[0mreverse\u001b[0m\u001b[0;34m=\u001b[0m\u001b[0;32mTrue\u001b[0m\u001b[0;34m,\u001b[0m\u001b[0maxis\u001b[0m\u001b[0;34m=\u001b[0m\u001b[0;36m0\u001b[0m\u001b[0;34m)\u001b[0m\u001b[0;34m\u001b[0m\u001b[0;34m\u001b[0m\u001b[0m\n\u001b[0m\u001b[1;32m     18\u001b[0m     \u001b[0mP\u001b[0m \u001b[0;34m=\u001b[0m \u001b[0mnp\u001b[0m\u001b[0;34m.\u001b[0m\u001b[0marray\u001b[0m\u001b[0;34m(\u001b[0m\u001b[0;34m[\u001b[0m\u001b[0meach_List\u001b[0m\u001b[0;34m[\u001b[0m\u001b[0;36m1\u001b[0m\u001b[0;34m]\u001b[0m \u001b[0;32mfor\u001b[0m \u001b[0meach_List\u001b[0m \u001b[0;32min\u001b[0m \u001b[0meig_List\u001b[0m\u001b[0;34m[\u001b[0m\u001b[0;34m:\u001b[0m\u001b[0mk\u001b[0m\u001b[0;34m]\u001b[0m\u001b[0;34m]\u001b[0m\u001b[0;34m)\u001b[0m\u001b[0;34m\u001b[0m\u001b[0;34m\u001b[0m\u001b[0m\n\u001b[1;32m     19\u001b[0m     \u001b[0mY\u001b[0m \u001b[0;34m=\u001b[0m \u001b[0mnp\u001b[0m\u001b[0;34m.\u001b[0m\u001b[0mdot\u001b[0m\u001b[0;34m(\u001b[0m\u001b[0mX\u001b[0m\u001b[0;34m,\u001b[0m\u001b[0mP\u001b[0m\u001b[0;34m.\u001b[0m\u001b[0mT\u001b[0m\u001b[0;34m)\u001b[0m\u001b[0;34m\u001b[0m\u001b[0;34m\u001b[0m\u001b[0m\n",
      "\u001b[0;31mTypeError\u001b[0m: 'axis' is an invalid keyword argument for sort()"
     ]
    }
   ],
   "source": [
    "X_trans = PCA(X,2)\n",
    "X_trans.shape "
   ]
  },
  {
   "cell_type": "code",
   "execution_count": 61,
   "metadata": {},
   "outputs": [
    {
     "data": {
      "image/png": "[encoded data removed]",
      "text/plain": [
       "<Figure size 432x288 with 1 Axes>"
      ]
     },
     "metadata": {
      "needs_background": "light"
     },
     "output_type": "display_data"
    }
   ],
   "source": [
    "x1 = X_trans[:, 0]\n",
    "x2 = X_trans[:, 1]\n",
    "#绘图\n",
    "plt.scatter(x1[:50], x2[:50], c='b')\n",
    "plt.scatter(x1[50:100], x2[50:100], c='g')\n",
    "plt.scatter(x1[100:150], x2[100:150], c='y')\n",
    "#plt.legend()\n",
    "plt.xlabel('pc1')\n",
    "plt.ylabel('pc2')\n",
    "plt.show()"
   ]
  },
  {
   "cell_type": "code",
   "execution_count": 14,
   "metadata": {
    "ExecuteTime": {
     "end_time": "2021-01-31T08:07:09.845746Z",
     "start_time": "2021-01-31T08:07:09.842140Z"
    }
   },
   "outputs": [],
   "source": [
    "from sklearn.decomposition import PCA\n",
    "from sklearn.discriminant_analysis import LinearDiscriminantAnalysis\n"
   ]
  },
  {
   "cell_type": "code",
   "execution_count": 15,
   "metadata": {
    "ExecuteTime": {
     "end_time": "2021-01-31T08:07:37.297928Z",
     "start_time": "2021-01-31T08:07:37.288035Z"
    }
   },
   "outputs": [
    {
     "data": {
      "text/plain": [
       "array([[ 2.12132034],\n",
       "       [ 0.70710678],\n",
       "       [ 0.        ],\n",
       "       [-2.12132034],\n",
       "       [-0.70710678]])"
      ]
     },
     "execution_count": 15,
     "metadata": {},
     "output_type": "execute_result"
    }
   ],
   "source": [
    "pca = PCA(n_components=1).fit(a).transform(a)\n",
    "pca "
   ]
  },
  {
   "cell_type": "code",
   "execution_count": 16,
   "metadata": {
    "ExecuteTime": {
     "end_time": "2021-01-31T08:10:59.735794Z",
     "start_time": "2021-01-31T08:10:59.551519Z"
    }
   },
   "outputs": [
    {
     "data": {
      "image/png": "[encoded data removed]",
      "text/plain": [
       "<Figure size 432x288 with 1 Axes>"
      ]
     },
     "metadata": {
      "needs_background": "light"
     },
     "output_type": "display_data"
    }
   ],
   "source": [
    "X = datasets.load_iris().data \n",
    "X_trans = PCA(n_components=2).fit(X).transform(X)\n",
    "x1 = X_trans[:, 0]\n",
    "x2 = X_trans[:, 1]\n",
    "#绘图\n",
    "plt.scatter(x1[:50], x2[:50], c='b')\n",
    "plt.scatter(x1[50:100], x2[50:100], c='g')\n",
    "plt.scatter(x1[100:150], x2[100:150], c='y')\n",
    "#plt.legend()\n",
    "plt.xlabel('pc1')\n",
    "plt.ylabel('pc2')\n",
    "plt.show()"
   ]
  },
  {
   "cell_type": "code",
   "execution_count": null,
   "metadata": {},
   "outputs": [],
   "source": []
  }
 ],
 "metadata": {
  "kernelspec": {
   "display_name": "Python 3",
   "language": "python",
   "name": "python3"
  },
  "language_info": {
   "codemirror_mode": {
    "name": "ipython",
    "version": 3
   },
   "file_extension": ".py",
   "mimetype": "text/x-python",
   "name": "python",
   "nbconvert_exporter": "python",
   "pygments_lexer": "ipython3",
   "version": "3.8.5"
  }
 },
 "nbformat": 4,
 "nbformat_minor": 4
}
