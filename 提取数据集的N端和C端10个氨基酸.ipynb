{
 "cells": [
  {
   "cell_type": "code",
   "execution_count": 1,
   "metadata": {
    "ExecuteTime": {
     "end_time": "2021-03-02T11:47:39.528675Z",
     "start_time": "2021-03-02T11:47:38.723613Z"
    }
   },
   "outputs": [],
   "source": [
    "import IEDBdo as IEDB\n",
    "import os \n",
    "from Bio import SeqIO\n",
    "from Bio import * "
   ]
  },
  {
   "cell_type": "code",
   "execution_count": null,
   "metadata": {},
   "outputs": [],
   "source": [
    "def writeToFasta(seqRecords,filename):\n",
    "    with open(filename,'w') as f:\n",
    "        for seq in seqRecords:\n",
    "            f.write('>'+seq.id+'\\n')\n",
    "            f.write(seq.seq+'\\n')            "
   ]
  },
  {
   "cell_type": "code",
   "execution_count": null,
   "metadata": {},
   "outputs": [],
   "source": [
    "def generateN_C(PositiveData,NegativeData,)"
   ]
  },
  {
   "cell_type": "code",
   "execution_count": 2,
   "metadata": {
    "ExecuteTime": {
     "end_time": "2021-03-02T11:47:39.558139Z",
     "start_time": "2021-03-02T11:47:39.531603Z"
    }
   },
   "outputs": [],
   "source": [
    "Positive = IEDB.readSeqFromeFasta('milk allergy linear BCEs bovine dataset.fasta')\n",
    "Negative = IEDB.readSeqFromeFasta('milk allergy linear nonBCEs bovine dataset.fasta')"
   ]
  },
  {
   "cell_type": "code",
   "execution_count": 3,
   "metadata": {
    "ExecuteTime": {
     "end_time": "2021-03-02T11:47:39.563695Z",
     "start_time": "2021-03-02T11:47:39.560765Z"
    }
   },
   "outputs": [],
   "source": [
    "#os.makedirs('位置分析数据/牛奶过敏')"
   ]
  },
  {
   "cell_type": "code",
   "execution_count": 4,
   "metadata": {
    "ExecuteTime": {
     "end_time": "2021-03-02T11:47:40.185482Z",
     "start_time": "2021-03-02T11:47:40.179517Z"
    }
   },
   "outputs": [],
   "source": [
    "Positive = [i for i in Positive if len(i)>=10]\n",
    "Negative = [i for i in Negative if len(i)>=10]"
   ]
  },
  {
   "cell_type": "code",
   "execution_count": 5,
   "metadata": {
    "ExecuteTime": {
     "end_time": "2021-03-02T11:47:40.426733Z",
     "start_time": "2021-03-02T11:47:40.421883Z"
    }
   },
   "outputs": [],
   "source": [
    "N10Positive = [i[:10] for i in Positive]\n",
    "N10Negative = [i[:10] for i in Negative]"
   ]
  },
  {
   "cell_type": "code",
   "execution_count": 31,
   "metadata": {
    "ExecuteTime": {
     "end_time": "2021-03-02T11:56:01.961455Z",
     "start_time": "2021-03-02T11:56:01.956047Z"
    }
   },
   "outputs": [],
   "source": [
    "seqData = N10Negative\n",
    "filename = '位置分析数据/牛奶过敏/N10Negative.fasta'\n",
    "seqRecords = [SeqRecord.SeqRecord(seq,id=str(ID)) for ID,seq in enumerate(seqData)]\n",
    "writeToFasta(seqRecords,filename)"
   ]
  },
  {
   "cell_type": "code",
   "execution_count": 32,
   "metadata": {
    "ExecuteTime": {
     "end_time": "2021-03-02T11:56:02.216115Z",
     "start_time": "2021-03-02T11:56:02.211181Z"
    }
   },
   "outputs": [],
   "source": [
    "seqData = N10Positive\n",
    "filename = '位置分析数据/牛奶过敏/N10Positive.fasta'\n",
    "seqRecords = [SeqRecord.SeqRecord(seq,id=str(ID)) for ID,seq in enumerate(seqData)]\n",
    "writeToFasta(seqRecords,filename)"
   ]
  },
  {
   "cell_type": "code",
   "execution_count": 6,
   "metadata": {
    "ExecuteTime": {
     "end_time": "2021-03-02T11:47:40.838985Z",
     "start_time": "2021-03-02T11:47:40.834745Z"
    }
   },
   "outputs": [],
   "source": [
    "C10Positive = [i[::-1][:10] for i in Positive]\n",
    "C10Negative = [i[::-1][:10] for i in Negative]"
   ]
  },
  {
   "cell_type": "code",
   "execution_count": 33,
   "metadata": {
    "ExecuteTime": {
     "end_time": "2021-03-02T11:56:03.856088Z",
     "start_time": "2021-03-02T11:56:03.850030Z"
    }
   },
   "outputs": [],
   "source": [
    "seqData = C10Negative\n",
    "filename = '位置分析数据/牛奶过敏/C10Negative.fasta'\n",
    "seqRecords = [SeqRecord.SeqRecord(seq,id=str(ID)) for ID,seq in enumerate(seqData)]\n",
    "writeToFasta(seqRecords,filename)"
   ]
  },
  {
   "cell_type": "code",
   "execution_count": 34,
   "metadata": {
    "ExecuteTime": {
     "end_time": "2021-03-02T11:56:04.101312Z",
     "start_time": "2021-03-02T11:56:04.096158Z"
    }
   },
   "outputs": [],
   "source": [
    "seqData = C10Positive\n",
    "filename = '位置分析数据/牛奶过敏/C10Positive.fasta'\n",
    "seqRecords = [SeqRecord.SeqRecord(seq,id=str(ID)) for ID,seq in enumerate(seqData)]\n",
    "writeToFasta(seqRecords,filename)"
   ]
  },
  {
   "cell_type": "code",
   "execution_count": null,
   "metadata": {},
   "outputs": [],
   "source": []
  }
 ],
 "metadata": {
  "kernelspec": {
   "display_name": "Python 3",
   "language": "python",
   "name": "python3"
  },
  "language_info": {
   "codemirror_mode": {
    "name": "ipython",
    "version": 3
   },
   "file_extension": ".py",
   "mimetype": "text/x-python",
   "name": "python",
   "nbconvert_exporter": "python",
   "pygments_lexer": "ipython3",
   "version": "3.8.5"
  }
 },
 "nbformat": 4,
 "nbformat_minor": 4
}
