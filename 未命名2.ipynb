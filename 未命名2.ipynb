{
 "cells": [
  {
   "cell_type": "code",
   "execution_count": 49,
   "metadata": {
    "ExecuteTime": {
     "end_time": "2021-02-09T09:32:28.412613Z",
     "start_time": "2021-02-09T09:32:28.402353Z"
    }
   },
   "outputs": [],
   "source": [
    "import numpy as np\n",
    "from Bio import SeqIO\n",
    "import json\n",
    "from sklearn.model_selection import train_test_split\n",
    "import feature as fe \n",
    "import copy \n",
    "from tensorflow.keras import *\n",
    "import seaborn as sns \n",
    "import matplotlib\n",
    "import matplotlib.pyplot as plt \n",
    "import pandas as pd \n",
    "\n",
    "from sklearn import metrics\n",
    "\n",
    "def metricsEvaluate(y_true,y_pred,p_threshold=0.5):\n",
    "    \"\"\"\n",
    "    input:\n",
    "        y_pred:模型的预测概率，是一个np.array的数组，函数会对预测概率根据制定的预测阈值指定分类\n",
    "        y_true:数据的真实分类，是一个np.array的数组\n",
    "        p_threshold:指定分类阈值，大于这个值会分类为1，小于会分类为0\n",
    "    output:[Sensitivity,Specificity,MCC]\n",
    "    \n",
    "    \"\"\"\n",
    "    y_pred = copy.deepcopy(y_pred)\n",
    "    y_pred[y_pred>=p_threshold]=1\n",
    "    y_pred[y_pred<=p_threshold]=0\n",
    "    confusion_matrix = metrics.confusion_matrix(y_true=y_true,y_pred = y_pred)\n",
    "    tn, fp, fn, tp = confusion_matrix.ravel()\n",
    "    Sensitivity = tp/(tp+fn)\n",
    "    Specificity = tn/(tn+fp)\n",
    "    MCC = metrics.matthews_corrcoef(y_true,y_pred)\n",
    "    ACC = metrics.accuracy_score(y_true,y_pred)\n",
    "    print('模型的ACC为:{:.2f},\\n模型的敏感性为:{:.2f},\\n特异性为:{:.2f},\\nMCC系数为:{:.2f}'.format(ACC,Sensitivity,Specificity,MCC))\n",
    "    return [ACC,Sensitivity,Specificity,MCC]"
   ]
  },
  {
   "cell_type": "code",
   "execution_count": 31,
   "metadata": {
    "ExecuteTime": {
     "end_time": "2021-02-09T09:29:12.404374Z",
     "start_time": "2021-02-09T09:29:12.400662Z"
    }
   },
   "outputs": [],
   "source": [
    "def func(x):\n",
    "    if x=='BCE':\n",
    "        return 1 \n",
    "    else:\n",
    "        return 0"
   ]
  },
  {
   "cell_type": "code",
   "execution_count": 83,
   "metadata": {
    "ExecuteTime": {
     "end_time": "2021-02-09T09:37:49.557507Z",
     "start_time": "2021-02-09T09:37:49.530511Z"
    }
   },
   "outputs": [],
   "source": [
    "foodPositive = pd.read_csv('ibce-EL_foodPositive.csv')['Prob\\xa0'].apply(func).values\n",
    "foodNegative = pd.read_csv('ibce-EL_foodNegative.csv')['PIP or Non-PIP\\xa0'].apply(func).values\n",
    "foodPred = np.concatenate([foodPositive,foodNegative])\n",
    "foodTrue = np.concatenate([np.ones((foodPositive.shape[0],)),np.zeros((foodNegative.shape[0],))])\n",
    "milkPositive = pd.read_csv('ibce-ELMilkPositive.csv')['PIP or Non-PIP\\xa0'].apply(func).values\n",
    "milkNegative = pd.read_csv('ibce-ELMilkNegative.csv')['PIP or Non-PIP\\xa0'].apply(func).values\n",
    "milkPred = np.concatenate([milkPositive,milkNegative])\n",
    "milkTrue = np.concatenate([np.ones((milkPositive.shape[0],)),np.zeros((milkNegative.shape[0],))])\n",
    "\n"
   ]
  },
  {
   "cell_type": "code",
   "execution_count": 43,
   "metadata": {
    "ExecuteTime": {
     "end_time": "2021-02-09T09:31:03.820159Z",
     "start_time": "2021-02-09T09:31:03.814562Z"
    }
   },
   "outputs": [
    {
     "data": {
      "text/plain": [
       "((4782,), (4782,), (464,), (464,))"
      ]
     },
     "execution_count": 43,
     "metadata": {},
     "output_type": "execute_result"
    }
   ],
   "source": [
    "foodPred.shape,foodTrue.shape,milkPred.shape,milkTrue.shape "
   ]
  },
  {
   "cell_type": "code",
   "execution_count": 95,
   "metadata": {
    "ExecuteTime": {
     "end_time": "2021-02-09T09:39:20.084402Z",
     "start_time": "2021-02-09T09:39:20.071991Z"
    }
   },
   "outputs": [
    {
     "name": "stdout",
     "output_type": "stream",
     "text": [
      "模型的ACC为:0.46,\n",
      "模型的敏感性为:0.77,\n",
      "特异性为:0.14,\n",
      "MCC系数为:-0.12\n"
     ]
    },
    {
     "data": {
      "text/plain": [
       "[0.46120689655172414,\n",
       " 0.7689075630252101,\n",
       " 0.13716814159292035,\n",
       " -0.12081629635996015]"
      ]
     },
     "execution_count": 95,
     "metadata": {},
     "output_type": "execute_result"
    }
   ],
   "source": [
    "metricsEvaluate(milkTrue,milkPred)"
   ]
  },
  {
   "cell_type": "code",
   "execution_count": 96,
   "metadata": {
    "ExecuteTime": {
     "end_time": "2021-02-09T09:39:21.447250Z",
     "start_time": "2021-02-09T09:39:21.426100Z"
    }
   },
   "outputs": [
    {
     "name": "stdout",
     "output_type": "stream",
     "text": [
      "模型的ACC为:0.62,\n",
      "模型的敏感性为:0.80,\n",
      "特异性为:0.39,\n",
      "MCC系数为:0.21\n"
     ]
    },
    {
     "data": {
      "text/plain": [
       "[0.6179422835633626,\n",
       " 0.7996999249812453,\n",
       " 0.3889413988657845,\n",
       " 0.20782822480170962]"
      ]
     },
     "execution_count": 96,
     "metadata": {},
     "output_type": "execute_result"
    }
   ],
   "source": [
    "metricsEvaluate(foodTrue,foodPred)"
   ]
  },
  {
   "cell_type": "code",
   "execution_count": 97,
   "metadata": {
    "ExecuteTime": {
     "end_time": "2021-02-09T09:39:30.579570Z",
     "start_time": "2021-02-09T09:39:30.556019Z"
    }
   },
   "outputs": [
    {
     "name": "stdout",
     "output_type": "stream",
     "text": [
      "模型的ACC为:0.80,\n",
      "模型的敏感性为:1.00,\n",
      "特异性为:0.00,\n",
      "MCC系数为:0.00\n"
     ]
    },
    {
     "name": "stderr",
     "output_type": "stream",
     "text": [
      "/Users/xutingfeng/opt/anaconda3/envs/Bio/lib/python3.8/site-packages/sklearn/metrics/_classification.py:846: RuntimeWarning: invalid value encountered in double_scalars\n",
      "  mcc = cov_ytyp / np.sqrt(cov_ytyt * cov_ypyp)\n"
     ]
    },
    {
     "data": {
      "text/plain": [
       "[0.7996999249812453, 1.0, 0.0, 0.0]"
      ]
     },
     "execution_count": 97,
     "metadata": {},
     "output_type": "execute_result"
    }
   ],
   "source": [
    "metricsEvaluate(foodPositive,np.ones((foodPositive.shape[0],)))"
   ]
  },
  {
   "cell_type": "code",
   "execution_count": 101,
   "metadata": {
    "ExecuteTime": {
     "end_time": "2021-02-09T09:40:12.716473Z",
     "start_time": "2021-02-09T09:40:12.694088Z"
    }
   },
   "outputs": [
    {
     "name": "stdout",
     "output_type": "stream",
     "text": [
      "模型的ACC为:0.39,\n",
      "模型的敏感性为:0.00,\n",
      "特异性为:1.00,\n",
      "MCC系数为:0.00\n"
     ]
    },
    {
     "name": "stderr",
     "output_type": "stream",
     "text": [
      "/Users/xutingfeng/opt/anaconda3/envs/Bio/lib/python3.8/site-packages/sklearn/metrics/_classification.py:846: RuntimeWarning: invalid value encountered in double_scalars\n",
      "  mcc = cov_ytyp / np.sqrt(cov_ytyt * cov_ypyp)\n"
     ]
    },
    {
     "data": {
      "text/plain": [
       "[0.3889413988657845, 0.0, 1.0, 0.0]"
      ]
     },
     "execution_count": 101,
     "metadata": {},
     "output_type": "execute_result"
    }
   ],
   "source": [
    "metricsEvaluate(foodNegative,np.zeros((foodNegative.shape[0],)))"
   ]
  },
  {
   "cell_type": "code",
   "execution_count": 103,
   "metadata": {
    "ExecuteTime": {
     "end_time": "2021-02-09T09:40:53.094820Z",
     "start_time": "2021-02-09T09:40:53.085418Z"
    }
   },
   "outputs": [
    {
     "name": "stdout",
     "output_type": "stream",
     "text": [
      "模型的ACC为:0.77,\n",
      "模型的敏感性为:1.00,\n",
      "特异性为:0.00,\n",
      "MCC系数为:0.00\n"
     ]
    },
    {
     "data": {
      "text/plain": [
       "[0.7689075630252101, 1.0, 0.0, 0.0]"
      ]
     },
     "execution_count": 103,
     "metadata": {},
     "output_type": "execute_result"
    }
   ],
   "source": [
    "metricsEvaluate(milkPositive,np.ones((milkPositive.shape[0],)))"
   ]
  },
  {
   "cell_type": "code",
   "execution_count": 105,
   "metadata": {
    "ExecuteTime": {
     "end_time": "2021-02-09T09:41:10.557622Z",
     "start_time": "2021-02-09T09:41:10.543799Z"
    }
   },
   "outputs": [
    {
     "name": "stdout",
     "output_type": "stream",
     "text": [
      "模型的ACC为:0.14,\n",
      "模型的敏感性为:0.00,\n",
      "特异性为:1.00,\n",
      "MCC系数为:0.00\n"
     ]
    },
    {
     "name": "stderr",
     "output_type": "stream",
     "text": [
      "/Users/xutingfeng/opt/anaconda3/envs/Bio/lib/python3.8/site-packages/sklearn/metrics/_classification.py:846: RuntimeWarning: invalid value encountered in double_scalars\n",
      "  mcc = cov_ytyp / np.sqrt(cov_ytyt * cov_ypyp)\n"
     ]
    },
    {
     "data": {
      "text/plain": [
       "[0.13716814159292035, 0.0, 1.0, 0.0]"
      ]
     },
     "execution_count": 105,
     "metadata": {},
     "output_type": "execute_result"
    }
   ],
   "source": [
    "metricsEvaluate(milkfNegative,np.zeros((milkNegative.shape[0],)))"
   ]
  },
  {
   "cell_type": "code",
   "execution_count": null,
   "metadata": {},
   "outputs": [],
   "source": []
  }
 ],
 "metadata": {
  "kernelspec": {
   "display_name": "Python 3",
   "language": "python",
   "name": "python3"
  },
  "language_info": {
   "codemirror_mode": {
    "name": "ipython",
    "version": 3
   },
   "file_extension": ".py",
   "mimetype": "text/x-python",
   "name": "python",
   "nbconvert_exporter": "python",
   "pygments_lexer": "ipython3",
   "version": "3.8.5"
  }
 },
 "nbformat": 4,
 "nbformat_minor": 4
}
