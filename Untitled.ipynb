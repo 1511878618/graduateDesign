{
 "cells": [
  {
   "cell_type": "code",
   "execution_count": 192,
   "metadata": {},
   "outputs": [],
   "source": [
    "\n",
    "AALetter=[\"A\",\"R\",\"N\",\"D\",\"C\",\"E\",\"Q\",\"G\",\"H\",\"I\",\"L\",\"K\",\"M\",\"F\",\"P\",\"S\",\"T\",\"W\",\"Y\",\"V\"]\n",
    "\n",
    "Hydrophobicity={'1':'RKEDQN','2':'GASTPHY','3':'CLVIMFW'} \n",
    "#'1'stand for Polar; '2'stand for Neutral, '3' stand for Hydrophobicity\n",
    "\n",
    "NormalizedVDWV={'1':'GASTPD','2':'NVEQIL','3':'MHKFRYW'}\n",
    "#'1'stand for (0-2.78); '2'stand for (2.95-4.0), '3' stand for (4.03-8.08)\n",
    "\n",
    "Polarity={'1':'LIFWCMVY','2':'CPNVEQIL','3':'KMHFRYW'}\n",
    "#'1'stand for (4.9-6.2); '2'stand for (8.0-9.2), '3' stand for (10.4-13.0)\n",
    "\n",
    "Charge={'1':'KR','2':'ANCQGHILMFPSTWYV','3':'DE'}\n",
    "#'1'stand for Positive; '2'stand for Neutral, '3' stand for Negative\n",
    "\n",
    "SecondaryStr={'1':'EALMQKRH','2':'VIYCWFT','3':'GNPSD'}\n",
    "#'1'stand for Helix; '2'stand for Strand, '3' stand for coil\n",
    "\n",
    "SolventAccessibility={'1':'ALFCGIVW','2':'RKQEND','3':'MPSTHY'}\n",
    "#'1'stand for Buried; '2'stand for Exposed, '3' stand for Intermediate\n",
    "\n",
    "Polarizability={'1':'GASDT','2':'CPNVEQIL','3':'KMHFRYW'}\n",
    "#'1'stand for (0-0.108); '2'stand for (0.128-0.186), '3' stand for (0.219-0.409)\n",
    "\n",
    "\n",
    "##You can continuely add other properties of AADs to compute descriptors of protein sequence.\n",
    "\n",
    "AATProperty=(Hydrophobicity,NormalizedVDWV,Polarity,Charge,SecondaryStr,SolventAccessibility,Polarizability)\n",
    "\n",
    "AATPropertyName=['Hydrophobicity','NormalizedVDWV','Polarity','Charge','SecondaryStr','SolventAccessibility','Polarizability']\n",
    "AATProperty = dict([(AATPropertyName[i],AATProperty[i]) for i in range(len(AATPropertyName))])\n",
    "\n",
    "##################################################################################################\n",
    "\n",
    "\n",
    "\n",
    "\n",
    "def stringtoNum(proteinSequence,AAPName):\n",
    "    \"\"\"\n",
    "    ###############################################################################################\n",
    "    Tranform the protein sequence into the string form such as 32123223132121123.\n",
    "\n",
    "    Usage:\n",
    "\n",
    "    result=StringtoNum(protein,AAProperty)\n",
    "\n",
    "    Input: protein is a pure protein sequence.\n",
    "\n",
    "    AAPName is a str , amino acids property such as Polarizability.\n",
    "\n",
    "    Output: result is a string such as 123321222132111123222\n",
    "    ###############################################################################################\n",
    "    \"\"\"\n",
    "    for index,aa in AATProperty[AAPName].items():\n",
    "        for a in aa:\n",
    "            try:\n",
    "                proteinSequence=proteinSequence.replace(a,index)\n",
    "            except:\n",
    "                pass\n",
    "    return proteinSequence\n",
    "\n",
    "def calculateComposition(proteinSequence,AAPName):\n",
    "    \"\"\"\n",
    "    ###############################################################################################\n",
    "    A method used for computing composition descriptors.\n",
    "\n",
    "    Usage:\n",
    "\n",
    "    result=CalculateComposition(protein,AAProperty,AAPName)\n",
    "\n",
    "    Input: protein is a pure protein sequence.\n",
    "\n",
    "    AAProperty is a dict form containing classifciation of amino acids such as _Polarizability.\n",
    "\n",
    "    AAPName is a string used for indicating a AAP name.\n",
    "\n",
    "    Output: Result是一个字典，包含各个class的含量百分比\n",
    "    ###############################################################################################\n",
    "    \"\"\"\n",
    "    hardProteinSequence = stringtoNum(proteinSequence,AAPName)#转化成数字\n",
    "    Result={}\n",
    "    Lenth=len(hardProteinSequence)\n",
    "    #计算1,2,3的C值\n",
    "    Result[AAPName+'C'+'1']=round(float(hardProteinSequence.count('1'))/Lenth,3)\n",
    "    Result[AAPName+'C'+'2']=round(float(hardProteinSequence.count('2'))/Lenth,3)\n",
    "    Result[AAPName+'C'+'3']=round(float(hardProteinSequence.count('3'))/Lenth,3)\n",
    "    return Result\n",
    "\n",
    "def calculateTransition(proteinSequence,AAPName):\n",
    "    \"\"\"\n",
    "    input: \n",
    "        proteinSequence:是一个蛋白质序列的字符串\n",
    "        AAPName:是要计算的氨基酸物理化学性质，是一个字符串\n",
    "    output:\n",
    "        Result：是包含了计算基于输入的物化性质的 transition 百分比的字典\n",
    "    \"\"\"\n",
    "    hardProteinSequence = stringtoNum(proteinSequence,AAPName)#转化成数字\n",
    "    Result={}\n",
    "    Lenth=len(hardProteinSequence)-1 \n",
    "    Result[AAPName+'T'+'12']=round(float(hardProteinSequence.count('12')+hardProteinSequence.count('21'))/Lenth,3)\n",
    "    Result[AAPName+'T'+'13']=round(float(hardProteinSequence.count('13')+hardProteinSequence.count('31'))/Lenth,3)\n",
    "    Result[AAPName+'T'+'23']=round(float(hardProteinSequence.count('23')+hardProteinSequence.count('32'))/Lenth,3)\n",
    "    return Result\n",
    "\n",
    "def calculateDistribution(proteinSequence,AAPName):\n",
    "    \"\"\"\n",
    "    input: \n",
    "        proteinSequence:是一个蛋白质序列的字符串\n",
    "        AAPName:是要计算的氨基酸物理化学性质，是一个字符串\n",
    "    output:\n",
    "        Result：是包含了计算基于输入的物化性质的 distribution 百分比的字典\n",
    "    \"\"\"\n",
    "    hardProteinSequence = stringtoNum(proteinSequence,AAPName)#转化成数字\n",
    "    Result={}\n",
    "    Lenth=len(hardProteinSequence)\n",
    "\n",
    "    for i in ['1','2','3']:\n",
    "        DList=[]\n",
    "        num = hardProteinSequence.count(i)#属性i的氨基酸个数\n",
    "        #选出属性为i的氨基酸，并用元组标上每一个氨基酸在原序列的位置n+1\n",
    "        for n in range(Lenth):\n",
    "            Class=hardProteinSequence[n]\n",
    "            if Class == i:\n",
    "                DList.append((n+1,i))\n",
    "\n",
    "        Result[AAPName+'D'+i+'001']=round(float(DList[0][0])/Lenth,3)\n",
    "        Result[AAPName+'D'+i+'025']=round(DList[int(float(num*0.25))-1][0]/Lenth,3)\n",
    "        Result[AAPName+'D'+i+'050']=round(DList[int(float(num*0.5))-1][0]/Lenth,3)\n",
    "        Result[AAPName+'D'+i+'075']=round(DList[int(float(num*0.75))-1][0]/Lenth,3)\n",
    "        Result[AAPName+'D'+i+'100']=round(float(DList[-1][0])/Lenth,3)\n",
    "        \n",
    "    return Result\n",
    "    \n",
    "def calculateCTD(proteinSequence,AAPNameList=AATPropertyName):\n",
    "    \"\"\"\n",
    "    input:\n",
    "        AAPNameList is a list of ['Hydrophobicity','NormalizedVDWV',\n",
    "                                'Polarity','Charge','SecondaryStr',\n",
    "                                'SolventAccessibility','Polarizability']\n",
    "        proteinSequence is a pure protein sequence str\n",
    "    \n",
    "    output:\n",
    "        result is a dict with CTD \n",
    "    \"\"\"\n",
    "    result = {}\n",
    "    if isinstance(AAPNameList,list):\n",
    "        for AAPName in AAPNameList:\n",
    "            result.update(calculateComposition(proteinSequence,AAPName))\n",
    "            result.update(calculateTransition(proteinSequence,AAPName))\n",
    "            result.update(calculateDistribution(proteinSequence,AAPName))\n",
    "\n",
    "        return result\n",
    "    else:\n",
    "        print(\"请输入包含氨基酸物化性质的一个列表，如['Hydrophobicity'] or ['Hydrophobicity','NormalizedVDWV']\")\n",
    "        \n"
   ]
  },
  {
   "cell_type": "code",
   "execution_count": 182,
   "metadata": {},
   "outputs": [],
   "source": [
    "protein = 'APGPDGNNGAQGPPGLQGVQGGKGEQGPAGPPGFQGLPGPAGTAGE'\n"
   ]
  },
  {
   "cell_type": "code",
   "execution_count": 184,
   "metadata": {},
   "outputs": [
    {
     "data": {
      "text/plain": [
       "False"
      ]
     },
     "execution_count": 184,
     "metadata": {},
     "output_type": "execute_result"
    }
   ],
   "source": [
    "isinstance(protein,list)"
   ]
  },
  {
   "cell_type": "code",
   "execution_count": 193,
   "metadata": {},
   "outputs": [
    {
     "data": {
      "text/plain": [
       "{'HydrophobicityC1': 0.239,\n",
       " 'HydrophobicityC2': 0.674,\n",
       " 'HydrophobicityC3': 0.087,\n",
       " 'HydrophobicityT12': 0.311,\n",
       " 'HydrophobicityT13': 0.067,\n",
       " 'HydrophobicityT23': 0.111,\n",
       " 'HydrophobicityD1001': 0.109,\n",
       " 'HydrophobicityD1025': 0.152,\n",
       " 'HydrophobicityD1050': 0.37,\n",
       " 'HydrophobicityD1075': 0.543,\n",
       " 'HydrophobicityD1100': 1.0,\n",
       " 'HydrophobicityD2001': 0.022,\n",
       " 'HydrophobicityD2025': 0.217,\n",
       " 'HydrophobicityD2050': 0.522,\n",
       " 'HydrophobicityD2075': 0.783,\n",
       " 'HydrophobicityD2100': 0.978,\n",
       " 'HydrophobicityD3001': 0.348,\n",
       " 'HydrophobicityD3025': 0.348,\n",
       " 'HydrophobicityD3050': 0.413,\n",
       " 'HydrophobicityD3075': 0.739,\n",
       " 'HydrophobicityD3100': 0.804,\n",
       " 'NormalizedVDWVC1': 0.696,\n",
       " 'NormalizedVDWVC2': 0.261,\n",
       " 'NormalizedVDWVC3': 0.043,\n",
       " 'NormalizedVDWVT12': 0.311,\n",
       " 'NormalizedVDWVT13': 0.067,\n",
       " 'NormalizedVDWVT23': 0.022,\n",
       " 'NormalizedVDWVD1001': 0.022,\n",
       " 'NormalizedVDWVD1025': 0.217,\n",
       " 'NormalizedVDWVD1050': 0.522,\n",
       " 'NormalizedVDWVD1075': 0.783,\n",
       " 'NormalizedVDWVD1100': 0.978,\n",
       " 'NormalizedVDWVD2001': 0.152,\n",
       " 'NormalizedVDWVD2025': 0.239,\n",
       " 'NormalizedVDWVD2050': 0.413,\n",
       " 'NormalizedVDWVD2075': 0.565,\n",
       " 'NormalizedVDWVD2100': 1.0,\n",
       " 'NormalizedVDWVD3001': 0.5,\n",
       " 'NormalizedVDWVD3025': 0.739,\n",
       " 'NormalizedVDWVD3050': 0.5,\n",
       " 'NormalizedVDWVD3075': 0.5,\n",
       " 'NormalizedVDWVD3100': 0.739,\n",
       " 'PolarityC1': 0.087,\n",
       " 'PolarityC2': 0.391,\n",
       " 'PolarityC3': 0.022,\n",
       " 'PolarityT12': 0.089,\n",
       " 'PolarityT13': 0.0,\n",
       " 'PolarityT23': 0.0,\n",
       " 'PolarityD1001': 0.348,\n",
       " 'PolarityD1025': 0.348,\n",
       " 'PolarityD1050': 0.413,\n",
       " 'PolarityD1075': 0.739,\n",
       " 'PolarityD1100': 0.804,\n",
       " 'PolarityD2001': 0.043,\n",
       " 'PolarityD2025': 0.174,\n",
       " 'PolarityD2050': 0.435,\n",
       " 'PolarityD2075': 0.674,\n",
       " 'PolarityD2100': 1.0,\n",
       " 'PolarityD3001': 0.5,\n",
       " 'PolarityD3025': 0.5,\n",
       " 'PolarityD3050': 0.5,\n",
       " 'PolarityD3075': 0.5,\n",
       " 'PolarityD3100': 0.5,\n",
       " 'ChargeC1': 0.022,\n",
       " 'ChargeC2': 0.913,\n",
       " 'ChargeC3': 0.065,\n",
       " 'ChargeT12': 0.044,\n",
       " 'ChargeT13': 0.0,\n",
       " 'ChargeT23': 0.111,\n",
       " 'ChargeD1001': 0.5,\n",
       " 'ChargeD1025': 0.5,\n",
       " 'ChargeD1050': 0.5,\n",
       " 'ChargeD1075': 0.5,\n",
       " 'ChargeD1100': 0.5,\n",
       " 'ChargeD2001': 0.022,\n",
       " 'ChargeD2025': 0.239,\n",
       " 'ChargeD2050': 0.478,\n",
       " 'ChargeD2075': 0.739,\n",
       " 'ChargeD2100': 0.978,\n",
       " 'ChargeD3001': 0.109,\n",
       " 'ChargeD3025': 1.0,\n",
       " 'ChargeD3050': 0.109,\n",
       " 'ChargeD3075': 0.543,\n",
       " 'ChargeD3100': 1.0,\n",
       " 'SecondaryStrC1': 0.326,\n",
       " 'SecondaryStrC2': 0.065,\n",
       " 'SecondaryStrC3': 0.609,\n",
       " 'SecondaryStrT12': 0.067,\n",
       " 'SecondaryStrT13': 0.422,\n",
       " 'SecondaryStrT23': 0.067,\n",
       " 'SecondaryStrD1001': 0.022,\n",
       " 'SecondaryStrD1025': 0.239,\n",
       " 'SecondaryStrD1050': 0.5,\n",
       " 'SecondaryStrD1075': 0.761,\n",
       " 'SecondaryStrD1100': 1.0,\n",
       " 'SecondaryStrD2001': 0.413,\n",
       " 'SecondaryStrD2025': 0.935,\n",
       " 'SecondaryStrD2050': 0.413,\n",
       " 'SecondaryStrD2075': 0.739,\n",
       " 'SecondaryStrD2100': 0.935,\n",
       " 'SecondaryStrD3001': 0.043,\n",
       " 'SecondaryStrD3025': 0.174,\n",
       " 'SecondaryStrD3050': 0.457,\n",
       " 'SecondaryStrD3075': 0.696,\n",
       " 'SecondaryStrD3100': 0.978,\n",
       " 'SolventAccessibilityC1': 0.543,\n",
       " 'SolventAccessibilityC2': 0.239,\n",
       " 'SolventAccessibilityC3': 0.217,\n",
       " 'SolventAccessibilityT12': 0.356,\n",
       " 'SolventAccessibilityT13': 0.333,\n",
       " 'SolventAccessibilityT23': 0.022,\n",
       " 'SolventAccessibilityD1001': 0.022,\n",
       " 'SolventAccessibilityD1025': 0.261,\n",
       " 'SolventAccessibilityD1050': 0.478,\n",
       " 'SolventAccessibilityD1075': 0.739,\n",
       " 'SolventAccessibilityD1100': 0.978,\n",
       " 'SolventAccessibilityD2001': 0.109,\n",
       " 'SolventAccessibilityD2025': 0.152,\n",
       " 'SolventAccessibilityD2050': 0.37,\n",
       " 'SolventAccessibilityD2075': 0.543,\n",
       " 'SolventAccessibilityD2100': 1.0,\n",
       " 'SolventAccessibilityD3001': 0.043,\n",
       " 'SolventAccessibilityD3025': 0.087,\n",
       " 'SolventAccessibilityD3050': 0.609,\n",
       " 'SolventAccessibilityD3075': 0.696,\n",
       " 'SolventAccessibilityD3100': 0.935,\n",
       " 'PolarizabilityC1': 0.5,\n",
       " 'PolarizabilityC2': 0.457,\n",
       " 'PolarizabilityC3': 0.043,\n",
       " 'PolarizabilityT12': 0.578,\n",
       " 'PolarizabilityT13': 0.067,\n",
       " 'PolarizabilityT23': 0.022,\n",
       " 'PolarizabilityD1001': 0.022,\n",
       " 'PolarizabilityD1025': 0.196,\n",
       " 'PolarizabilityD1050': 0.478,\n",
       " 'PolarizabilityD1075': 0.783,\n",
       " 'PolarizabilityD1100': 0.978,\n",
       " 'PolarizabilityD2001': 0.043,\n",
       " 'PolarizabilityD2025': 0.239,\n",
       " 'PolarizabilityD2050': 0.413,\n",
       " 'PolarizabilityD2075': 0.674,\n",
       " 'PolarizabilityD2100': 1.0,\n",
       " 'PolarizabilityD3001': 0.5,\n",
       " 'PolarizabilityD3025': 0.739,\n",
       " 'PolarizabilityD3050': 0.5,\n",
       " 'PolarizabilityD3075': 0.5,\n",
       " 'PolarizabilityD3100': 0.739}"
      ]
     },
     "execution_count": 193,
     "metadata": {},
     "output_type": "execute_result"
    }
   ],
   "source": [
    "calculateCTD(protein)\n"
   ]
  },
  {
   "cell_type": "code",
   "execution_count": 179,
   "metadata": {},
   "outputs": [
    {
     "data": {
      "text/plain": [
       "'2222121122122223123122121122222223123222222221'"
      ]
     },
     "execution_count": 179,
     "metadata": {},
     "output_type": "execute_result"
    }
   ],
   "source": [
    "stringtoNum(protein,'Hydrophobicity')"
   ]
  },
  {
   "cell_type": "code",
   "execution_count": 56,
   "metadata": {},
   "outputs": [
    {
     "data": {
      "text/plain": [
       "'2222121122122223123122121122222223123222222221'"
      ]
     },
     "execution_count": 56,
     "metadata": {},
     "output_type": "execute_result"
    }
   ],
   "source": [
    "stringtoNum(protein,'Hydrophobicity')"
   ]
  },
  {
   "cell_type": "code",
   "execution_count": null,
   "metadata": {},
   "outputs": [],
   "source": []
  },
  {
   "cell_type": "code",
   "execution_count": 27,
   "metadata": {},
   "outputs": [
    {
     "ename": "ValueError",
     "evalue": "too many values to unpack (expected 2)",
     "output_type": "error",
     "traceback": [
      "\u001b[1;31m---------------------------------------------------------------------------\u001b[0m",
      "\u001b[1;31mValueError\u001b[0m                                Traceback (most recent call last)",
      "\u001b[1;32m<ipython-input-27-c63939567be9>\u001b[0m in \u001b[0;36m<module>\u001b[1;34m\u001b[0m\n\u001b[1;32m----> 1\u001b[1;33m \u001b[1;32mfor\u001b[0m \u001b[0mi\u001b[0m\u001b[1;33m,\u001b[0m\u001b[0mj\u001b[0m \u001b[1;32min\u001b[0m \u001b[0mAATPropertyName\u001b[0m\u001b[1;33m,\u001b[0m\u001b[0mAATProperty\u001b[0m\u001b[1;33m:\u001b[0m\u001b[1;33m\u001b[0m\u001b[1;33m\u001b[0m\u001b[0m\n\u001b[0m\u001b[0;32m      2\u001b[0m     \u001b[0mprint\u001b[0m\u001b[1;33m(\u001b[0m\u001b[0mi\u001b[0m\u001b[1;33m,\u001b[0m\u001b[0mj\u001b[0m\u001b[1;33m)\u001b[0m\u001b[1;33m\u001b[0m\u001b[1;33m\u001b[0m\u001b[0m\n",
      "\u001b[1;31mValueError\u001b[0m: too many values to unpack (expected 2)"
     ]
    }
   ],
   "source": [
    "float()"
   ]
  },
  {
   "cell_type": "code",
   "execution_count": 25,
   "metadata": {},
   "outputs": [
    {
     "data": {
      "text/plain": [
       "({'1': 'RKEDQN', '2': 'GASTPHY', '3': 'CLVIMFW'},\n",
       " {'1': 'GASTPD', '2': 'NVEQIL', '3': 'MHKFRYW'},\n",
       " {'1': 'LIFWCMVY', '2': 'CPNVEQIL', '3': 'KMHFRYW'},\n",
       " {'1': 'KR', '2': 'ANCQGHILMFPSTWYV', '3': 'DE'},\n",
       " {'1': 'EALMQKRH', '2': 'VIYCWFT', '3': 'GNPSD'},\n",
       " {'1': 'ALFCGIVW', '2': 'RKQEND', '3': 'MPSTHY'},\n",
       " {'1': 'GASDT', '2': 'CPNVEQIL', '3': 'KMHFRYW'})"
      ]
     },
     "execution_count": 25,
     "metadata": {},
     "output_type": "execute_result"
    }
   ],
   "source": [
    "AATProperty"
   ]
  },
  {
   "cell_type": "code",
   "execution_count": 36,
   "metadata": {},
   "outputs": [
    {
     "data": {
      "text/plain": [
       "{'Hydrophobicity': {'1': 'RKEDQN', '2': 'GASTPHY', '3': 'CLVIMFW'},\n",
       " 'NormalizedVDWV': {'1': 'GASTPD', '2': 'NVEQIL', '3': 'MHKFRYW'},\n",
       " 'Polarity': {'1': 'LIFWCMVY', '2': 'CPNVEQIL', '3': 'KMHFRYW'},\n",
       " 'Charge': {'1': 'KR', '2': 'ANCQGHILMFPSTWYV', '3': 'DE'},\n",
       " 'SecondaryStr': {'1': 'EALMQKRH', '2': 'VIYCWFT', '3': 'GNPSD'},\n",
       " 'SolventAccessibility': {'1': 'ALFCGIVW', '2': 'RKQEND', '3': 'MPSTHY'},\n",
       " 'Polarizability': {'1': 'GASDT', '2': 'CPNVEQIL', '3': 'KMHFRYW'}}"
      ]
     },
     "execution_count": 36,
     "metadata": {},
     "output_type": "execute_result"
    }
   ],
   "source": []
  },
  {
   "cell_type": "code",
   "execution_count": 30,
   "metadata": {},
   "outputs": [
    {
     "ename": "SyntaxError",
     "evalue": "invalid syntax (<ipython-input-30-ba3f107320a0>, line 1)",
     "output_type": "error",
     "traceback": [
      "\u001b[1;36m  File \u001b[1;32m\"<ipython-input-30-ba3f107320a0>\"\u001b[1;36m, line \u001b[1;32m1\u001b[0m\n\u001b[1;33m    [i,j for i,j in [range(10),range(10)]]\u001b[0m\n\u001b[1;37m           ^\u001b[0m\n\u001b[1;31mSyntaxError\u001b[0m\u001b[1;31m:\u001b[0m invalid syntax\n"
     ]
    }
   ],
   "source": [
    "[i,j for i,j in [range(10),range(10)]]"
   ]
  },
  {
   "cell_type": "code",
   "execution_count": 51,
   "metadata": {},
   "outputs": [
    {
     "data": {
      "text/plain": [
       "'11'"
      ]
     },
     "execution_count": 51,
     "metadata": {},
     "output_type": "execute_result"
    }
   ],
   "source": [
    "a='AA'\n",
    "a.replace('A','1')"
   ]
  },
  {
   "cell_type": "code",
   "execution_count": 82,
   "metadata": {},
   "outputs": [
    {
     "data": {
      "text/plain": [
       "2.515"
      ]
     },
     "execution_count": 82,
     "metadata": {},
     "output_type": "execute_result"
    }
   ],
   "source": [
    "round(2.5146,3)"
   ]
  },
  {
   "cell_type": "code",
   "execution_count": 83,
   "metadata": {},
   "outputs": [
    {
     "data": {
      "text/plain": [
       "60.0"
      ]
     },
     "execution_count": 83,
     "metadata": {},
     "output_type": "execute_result"
    }
   ],
   "source": [
    "3/5*100 "
   ]
  },
  {
   "cell_type": "code",
   "execution_count": 86,
   "metadata": {},
   "outputs": [],
   "source": [
    "proteinSequence, AAPName = protein,'Hydrophobicity'"
   ]
  },
  {
   "cell_type": "code",
   "execution_count": 138,
   "metadata": {},
   "outputs": [
    {
     "name": "stdout",
     "output_type": "stream",
     "text": [
      "[(1, '1'), (4, '1'), (10, '1'), (11, '1'), (12, '1'), (13, '1'), (17, '1'), (19, '1'), (25, '1'), (26, '1')] \t\n",
      "[(2, '2'), (3, '2'), (5, '2'), (6, '2'), (7, '2'), (8, '2'), (9, '2'), (14, '2'), (15, '2'), (16, '2'), (18, '2'), (20, '2'), (21, '2'), (22, '2'), (23, '2'), (24, '2')] \t\n"
     ]
    }
   ],
   "source": [
    "\n",
    "\n",
    "#hardProteinSequence = stringtoNum(proteinSequence,AAPName)#转化成数字\n",
    "hardProteinSequence ='12212222211112221212222211'\n",
    "Result={}\n",
    "Lenth=len(hardProteinSequence)\n",
    "     \n",
    "for i in ['1','2']:\n",
    "    DList=[]\n",
    "    num = hardProteinSequence.count(i)#属性i的氨基酸个数\n",
    "    #选出属性为i的氨基酸，并用元组标上每一个氨基酸在原序列的位置n+1\n",
    "    for n in range(Lenth):\n",
    "        Class=hardProteinSequence[n]\n",
    "        if Class == i:\n",
    "            DList.append((n+1,i))\n",
    "    print(DList,'\\t')\n",
    "    Result[AAPName+'D'+i+'001']=round(float(DList[0][0])/Lenth,3)\n",
    "    Result[AAPName+'D'+i+'025']=round(DList[int(float(num*0.25))-1][0]/Lenth,3)\n",
    "    Result[AAPName+'D'+i+'050']=round(DList[int(float(num*0.5))-1][0]/Lenth,3)\n",
    "    Result[AAPName+'D'+i+'075']=round(DList[int(float(num*0.75))-1][0]/Lenth,3)\n",
    "    Result[AAPName+'D'+i+'100']=round(float(DList[-1][0])/Lenth,3)\n"
   ]
  },
  {
   "cell_type": "code",
   "execution_count": 137,
   "metadata": {},
   "outputs": [
    {
     "data": {
      "text/plain": [
       "0.462"
      ]
     },
     "execution_count": 137,
     "metadata": {},
     "output_type": "execute_result"
    }
   ],
   "source": [
    "round(DList[int(float(10*0.5))-1][0]/Lenth,3)\n",
    " \n"
   ]
  },
  {
   "cell_type": "code",
   "execution_count": 141,
   "metadata": {},
   "outputs": [
    {
     "data": {
      "text/plain": [
       "0.7307692307692307"
      ]
     },
     "execution_count": 141,
     "metadata": {},
     "output_type": "execute_result"
    }
   ],
   "source": [
    "19/26 "
   ]
  },
  {
   "cell_type": "code",
   "execution_count": 139,
   "metadata": {},
   "outputs": [
    {
     "data": {
      "text/plain": [
       "{'HydrophobicityD1001': 0.038,\n",
       " 'HydrophobicityD1025': 0.154,\n",
       " 'HydrophobicityD1050': 0.462,\n",
       " 'HydrophobicityD1075': 0.654,\n",
       " 'HydrophobicityD1100': 1.0,\n",
       " 'HydrophobicityD2001': 0.077,\n",
       " 'HydrophobicityD2025': 0.231,\n",
       " 'HydrophobicityD2050': 0.538,\n",
       " 'HydrophobicityD2075': 0.769,\n",
       " 'HydrophobicityD2100': 0.923}"
      ]
     },
     "execution_count": 139,
     "metadata": {},
     "output_type": "execute_result"
    }
   ],
   "source": [
    "Result"
   ]
  },
  {
   "cell_type": "code",
   "execution_count": 121,
   "metadata": {},
   "outputs": [
    {
     "data": {
      "text/plain": [
       "0.46153846153846156"
      ]
     },
     "execution_count": 121,
     "metadata": {},
     "output_type": "execute_result"
    }
   ],
   "source": [
    "\n",
    "12/26 "
   ]
  },
  {
   "cell_type": "code",
   "execution_count": 95,
   "metadata": {},
   "outputs": [
    {
     "data": {
      "text/plain": [
       "[0, 1, 2, 3, 4, 5, 6, 7, 8, 9, 10, 11, 12, 13, 14, 15]"
      ]
     },
     "execution_count": 95,
     "metadata": {},
     "output_type": "execute_result"
    }
   ],
   "source": [
    "[i for i in range(16)]"
   ]
  },
  {
   "cell_type": "code",
   "execution_count": 166,
   "metadata": {},
   "outputs": [],
   "source": [
    "A={1:'3'}\n",
    "B={2:'4'}\n",
    "C={3:'5'}\n"
   ]
  },
  {
   "cell_type": "code",
   "execution_count": 152,
   "metadata": {},
   "outputs": [
    {
     "name": "stdout",
     "output_type": "stream",
     "text": [
      "Operator precedence\n",
      "*******************\n",
      "\n",
      "The following table summarizes the operator precedence in Python, from\n",
      "lowest precedence (least binding) to highest precedence (most\n",
      "binding).  Operators in the same box have the same precedence.  Unless\n",
      "the syntax is explicitly given, operators are binary.  Operators in\n",
      "the same box group left to right (except for exponentiation, which\n",
      "groups from right to left).\n",
      "\n",
      "Note that comparisons, membership tests, and identity tests, all have\n",
      "the same precedence and have a left-to-right chaining feature as\n",
      "described in the Comparisons section.\n",
      "\n",
      "+-------------------------------------------------+---------------------------------------+\n",
      "| Operator                                        | Description                           |\n",
      "+=================================================+=======================================+\n",
      "| \"lambda\"                                        | Lambda expression                     |\n",
      "+-------------------------------------------------+---------------------------------------+\n",
      "| \"if\" – \"else\"                                   | Conditional expression                |\n",
      "+-------------------------------------------------+---------------------------------------+\n",
      "| \"or\"                                            | Boolean OR                            |\n",
      "+-------------------------------------------------+---------------------------------------+\n",
      "| \"and\"                                           | Boolean AND                           |\n",
      "+-------------------------------------------------+---------------------------------------+\n",
      "| \"not\" \"x\"                                       | Boolean NOT                           |\n",
      "+-------------------------------------------------+---------------------------------------+\n",
      "| \"in\", \"not in\", \"is\", \"is not\", \"<\", \"<=\", \">\", | Comparisons, including membership     |\n",
      "| \">=\", \"!=\", \"==\"                                | tests and identity tests              |\n",
      "+-------------------------------------------------+---------------------------------------+\n",
      "| \"|\"                                             | Bitwise OR                            |\n",
      "+-------------------------------------------------+---------------------------------------+\n",
      "| \"^\"                                             | Bitwise XOR                           |\n",
      "+-------------------------------------------------+---------------------------------------+\n",
      "| \"&\"                                             | Bitwise AND                           |\n",
      "+-------------------------------------------------+---------------------------------------+\n",
      "| \"<<\", \">>\"                                      | Shifts                                |\n",
      "+-------------------------------------------------+---------------------------------------+\n",
      "| \"+\", \"-\"                                        | Addition and subtraction              |\n",
      "+-------------------------------------------------+---------------------------------------+\n",
      "| \"*\", \"@\", \"/\", \"//\", \"%\"                        | Multiplication, matrix                |\n",
      "|                                                 | multiplication, division, floor       |\n",
      "|                                                 | division, remainder [5]               |\n",
      "+-------------------------------------------------+---------------------------------------+\n",
      "| \"+x\", \"-x\", \"~x\"                                | Positive, negative, bitwise NOT       |\n",
      "+-------------------------------------------------+---------------------------------------+\n",
      "| \"**\"                                            | Exponentiation [6]                    |\n",
      "+-------------------------------------------------+---------------------------------------+\n",
      "| \"await\" \"x\"                                     | Await expression                      |\n",
      "+-------------------------------------------------+---------------------------------------+\n",
      "| \"x[index]\", \"x[index:index]\",                   | Subscription, slicing, call,          |\n",
      "| \"x(arguments...)\", \"x.attribute\"                | attribute reference                   |\n",
      "+-------------------------------------------------+---------------------------------------+\n",
      "| \"(expressions...)\", \"[expressions...]\", \"{key:  | Binding or tuple display, list        |\n",
      "| value...}\", \"{expressions...}\"                  | display, dictionary display, set      |\n",
      "|                                                 | display                               |\n",
      "+-------------------------------------------------+---------------------------------------+\n",
      "\n",
      "-[ Footnotes ]-\n",
      "\n",
      "[1] While \"abs(x%y) < abs(y)\" is true mathematically, for floats\n",
      "    it may not be true numerically due to roundoff.  For example, and\n",
      "    assuming a platform on which a Python float is an IEEE 754 double-\n",
      "    precision number, in order that \"-1e-100 % 1e100\" have the same\n",
      "    sign as \"1e100\", the computed result is \"-1e-100 + 1e100\", which\n",
      "    is numerically exactly equal to \"1e100\".  The function\n",
      "    \"math.fmod()\" returns a result whose sign matches the sign of the\n",
      "    first argument instead, and so returns \"-1e-100\" in this case.\n",
      "    Which approach is more appropriate depends on the application.\n",
      "\n",
      "[2] If x is very close to an exact integer multiple of y, it’s\n",
      "    possible for \"x//y\" to be one larger than \"(x-x%y)//y\" due to\n",
      "    rounding.  In such cases, Python returns the latter result, in\n",
      "    order to preserve that \"divmod(x,y)[0] * y + x % y\" be very close\n",
      "    to \"x\".\n",
      "\n",
      "[3] The Unicode standard distinguishes between *code points* (e.g.\n",
      "    U+0041) and *abstract characters* (e.g. “LATIN CAPITAL LETTER A”).\n",
      "    While most abstract characters in Unicode are only represented\n",
      "    using one code point, there is a number of abstract characters\n",
      "    that can in addition be represented using a sequence of more than\n",
      "    one code point.  For example, the abstract character “LATIN\n",
      "    CAPITAL LETTER C WITH CEDILLA” can be represented as a single\n",
      "    *precomposed character* at code position U+00C7, or as a sequence\n",
      "    of a *base character* at code position U+0043 (LATIN CAPITAL\n",
      "    LETTER C), followed by a *combining character* at code position\n",
      "    U+0327 (COMBINING CEDILLA).\n",
      "\n",
      "    The comparison operators on strings compare at the level of\n",
      "    Unicode code points. This may be counter-intuitive to humans.  For\n",
      "    example, \"\"\\u00C7\" == \"\\u0043\\u0327\"\" is \"False\", even though both\n",
      "    strings represent the same abstract character “LATIN CAPITAL\n",
      "    LETTER C WITH CEDILLA”.\n",
      "\n",
      "    To compare strings at the level of abstract characters (that is,\n",
      "    in a way intuitive to humans), use \"unicodedata.normalize()\".\n",
      "\n",
      "[4] Due to automatic garbage-collection, free lists, and the\n",
      "    dynamic nature of descriptors, you may notice seemingly unusual\n",
      "    behaviour in certain uses of the \"is\" operator, like those\n",
      "    involving comparisons between instance methods, or constants.\n",
      "    Check their documentation for more info.\n",
      "\n",
      "[5] The \"%\" operator is also used for string formatting; the same\n",
      "    precedence applies.\n",
      "\n",
      "[6] The power operator \"**\" binds less tightly than an arithmetic\n",
      "    or bitwise unary operator on its right, that is, \"2**-1\" is \"0.5\".\n",
      "\n",
      "Related help topics: lambda, or, and, not, in, is, BOOLEAN, COMPARISON,\n",
      "BITWISE, SHIFTING, BINARY, FORMATTING, POWER, UNARY, ATTRIBUTES,\n",
      "SUBSCRIPTS, SLICINGS, CALLS, TUPLES, LISTS, DICTIONARIES, BITWISE\n",
      "\n"
     ]
    }
   ],
   "source": [
    "help('|')"
   ]
  },
  {
   "cell_type": "code",
   "execution_count": 168,
   "metadata": {},
   "outputs": [],
   "source": [
    "A.update(B)"
   ]
  },
  {
   "cell_type": "code",
   "execution_count": 169,
   "metadata": {},
   "outputs": [],
   "source": [
    "A.update(C)"
   ]
  },
  {
   "cell_type": "code",
   "execution_count": 170,
   "metadata": {},
   "outputs": [
    {
     "data": {
      "text/plain": [
       "{1: '3', 2: '4', 3: '5'}"
      ]
     },
     "execution_count": 170,
     "metadata": {},
     "output_type": "execute_result"
    }
   ],
   "source": [
    "A"
   ]
  },
  {
   "cell_type": "markdown",
   "metadata": {},
   "source": [
    "处理AAIndex\n",
    "\n",
    "I    A/L     R/K     N/M     D/F     C/P     Q/S     E/T     G/W     H/Y     I/V\n",
    "    0.96    0.77    0.39    0.42    0.42    0.80    0.53    0.00    0.57    0.84\n",
    "    0.92    0.73    0.86    0.59   -2.50    0.53    0.54    0.58    0.72    0.6"
   ]
  },
  {
   "cell_type": "code",
   "execution_count": 195,
   "metadata": {},
   "outputs": [],
   "source": [
    "import pandas as pd "
   ]
  },
  {
   "cell_type": "code",
   "execution_count": 234,
   "metadata": {},
   "outputs": [
    {
     "name": "stdout",
     "output_type": "stream",
     "text": [
      "{'BLAM930101': {'A': 0.96, ' R': 0.77, ' N': 0.39, ' D': 0.42, ' C': 0.42, ' Q': 0.8, ' E': 0.53, ' G': 0.0, ' H': 0.57, ' I': 0.84, ' L': 0.92, ' K': 0.73, ' M': 0.86, ' F': 0.59, ' P': -2.5, ' S': 0.53, ' T': 0.54, ' W': 0.58, ' Y': 0.72, ' V': 0.63}, 'BIOV880101': {'A': 16.0, ' R': -70.0, ' N': -74.0, ' D': -78.0, ' C': 168.0, ' Q': -73.0, ' E': -106.0, ' G': -13.0, ' H': 50.0, ' I': 151.0, ' L': 16.0, ' K': -70.0, ' M': -74.0, ' F': -78.0, ' P': 168.0, ' S': -73.0, ' T': -106.0, ' W': -13.0, ' Y': 50.0, ' V': 151.0}, 'MAXF760101': {'A': 1.43, ' R': 1.18, ' N': 0.64, ' D': 0.92, ' C': 0.94, ' Q': 1.22, ' E': 1.67, ' G': 0.46, ' H': 0.98, ' I': 1.04, ' L': 1.36, ' K': 1.27, ' M': 1.53, ' F': 1.19, ' P': 0.49, ' S': 0.7, ' T': 0.78, ' W': 1.01, ' Y': 0.69, ' V': 0.98}, 'TSAJ990101': {'A': 89.3, ' R': 190.3, ' N': 122.4, ' D': 114.4, ' C': 102.5, ' Q': 146.9, ' E': 138.8, ' G': 63.8, ' H': 157.5, ' I': 163.0, ' L': 163.1, ' K': 165.1, ' M': 165.8, ' F': 190.8, ' P': 121.6, ' S': 94.2, ' T': 119.6, ' W': 226.4, ' Y': 194.6, ' V': 138.2}, 'NAKH920108': {'A': 9.36, ' R': 0.27, ' N': 2.31, ' D': 0.94, ' C': 2.56, ' Q': 1.14, ' E': 0.94, ' G': 6.17, ' H': 0.47, ' I': 13.73, ' L': 9.36, ' K': 0.27, ' M': 2.31, ' F': 0.94, ' P': 2.56, ' S': 1.14, ' T': 0.94, ' W': 6.17, ' Y': 0.47, ' V': 13.73}, 'CEDJ970104': {'A': 7.9, ' R': 4.9, ' N': 4.0, ' D': 5.5, ' C': 1.9, ' Q': 4.4, ' E': 7.1, ' G': 7.1, ' H': 2.1, ' I': 5.2, ' L': 8.6, ' K': 6.7, ' M': 2.4, ' F': 3.9, ' P': 5.3, ' S': 6.6, ' T': 5.3, ' W': 1.2, ' Y': 3.1, ' V': 6.8}, 'LIFS790101': {'A': 0.92, ' R': 0.93, ' N': 0.6, ' D': 0.48, ' C': 1.16, ' Q': 0.95, ' E': 0.61, ' G': 0.61, ' H': 0.93, ' I': 1.81, ' L': -0.37, ' K': 0.33, ' M': -0.3, ' F': -0.38, ' P': 0.19, ' S': 0.12, ' T': 0.03, ' W': -0.33, ' Y': -0.29, ' V': -0.29}}\n"
     ]
    },
    {
     "name": "stderr",
     "output_type": "stream",
     "text": [
      "D:\\Anaconda\\lib\\site-packages\\ipykernel_launcher.py:1: ParserWarning: Falling back to the 'python' engine because the 'c' engine does not support regex separators (separators > 1 char and different from '\\s+' are interpreted as regex); you can avoid this warning by specifying engine='python'.\n",
      "  \"\"\"Entry point for launching an IPython kernel.\n"
     ]
    }
   ],
   "source": [
    "AAindex = pd.read_csv('8_AAindex.txt','   ',index_col=0)\n",
    "Properity ={}\n",
    "for i in range(AAindex.shape[0]):\n",
    "    Properity[AAindex.iloc[i].name]=AAindex.iloc[i].to_dict() \n",
    "print(Properity)"
   ]
  },
  {
   "cell_type": "code",
   "execution_count": 232,
   "metadata": {},
   "outputs": [],
   "source": [
    "Properity ={}\n",
    "for i in range(a.shape[0]):\n",
    "    Properity[a.iloc[i].name]=a.iloc[i].to_dict()\n",
    "    "
   ]
  },
  {
   "cell_type": "code",
   "execution_count": 13,
   "metadata": {},
   "outputs": [],
   "source": [
    "import pandas as pd "
   ]
  },
  {
   "cell_type": "code",
   "execution_count": 17,
   "metadata": {},
   "outputs": [],
   "source": [
    "AAIdex_8features= {'BLAM930101': {'A': 0.96, ' R': 0.77, ' N': 0.39, ' D': 0.42, ' C': 0.42, ' Q': 0.8, ' E': 0.53, ' G': 0.0, ' H': 0.57, ' I': 0.84, ' L': 0.92, ' K': 0.73, ' M': 0.86, ' F': 0.59, ' P': -2.5, ' S': 0.53, ' T': 0.54, ' W': 0.58, ' Y': 0.72, ' V': 0.63}, 'BIOV880101': {'A': 16.0, ' R': -70.0, ' N': -74.0, ' D': -78.0, ' C': 168.0, ' Q': -73.0, ' E': -106.0, ' G': -13.0, ' H': 50.0, ' I': 151.0, ' L': 16.0, ' K': -70.0, ' M': -74.0, ' F': -78.0, ' P': 168.0, ' S': -73.0, ' T': -106.0, ' W': -13.0, ' Y': 50.0, ' V': 151.0}, 'MAXF760101': {'A': 1.43, ' R': 1.18, ' N': 0.64, ' D': 0.92, ' C': 0.94, ' Q': 1.22, ' E': 1.67, ' G': 0.46, ' H': 0.98, ' I': 1.04, ' L': 1.36, ' K': 1.27, ' M': 1.53, ' F': 1.19, ' P': 0.49, ' S': 0.7, ' T': 0.78, ' W': 1.01, ' Y': 0.69, ' V': 0.98}, 'TSAJ990101': {'A': 89.3, ' R': 190.3, ' N': 122.4, ' D': 114.4, ' C': 102.5, ' Q': 146.9, ' E': 138.8, ' G': 63.8, ' H': 157.5, ' I': 163.0, ' L': 163.1, ' K': 165.1, ' M': 165.8, ' F': 190.8, ' P': 121.6, ' S': 94.2, ' T': 119.6, ' W': 226.4, ' Y': 194.6, ' V': 138.2}, 'NAKH920108': {'A': 9.36, ' R': 0.27, ' N': 2.31, ' D': 0.94, ' C': 2.56, ' Q': 1.14, ' E': 0.94, ' G': 6.17, ' H': 0.47, ' I': 13.73, ' L': 9.36, ' K': 0.27, ' M': 2.31, ' F': 0.94, ' P': 2.56, ' S': 1.14, ' T': 0.94, ' W': 6.17, ' Y': 0.47, ' V': 13.73}, 'CEDJ970104': {'A': 7.9, ' R': 4.9, ' N': 4.0, ' D': 5.5, ' C': 1.9, ' Q': 4.4, ' E': 7.1, ' G': 7.1, ' H': 2.1, ' I': 5.2, ' L': 8.6, ' K': 6.7, ' M': 2.4, ' F': 3.9, ' P': 5.3, ' S': 6.6, ' T': 5.3, ' W': 1.2, ' Y': 3.1, ' V': 6.8}, 'LIFS790101': {'A': 0.92, ' R': 0.93, ' N': 0.6, ' D': 0.48, ' C': 1.16, ' Q': 0.95, ' E': 0.61, ' G': 0.61, ' H': 0.93, ' I': 1.81, ' L': -0.37, ' K': 0.33, ' M': -0.3, ' F': -0.38, ' P': 0.19, ' S': 0.12, ' T': 0.03, ' W': -0.33, ' Y': -0.29, ' V': -0.29}}\n",
    "\n",
    "def CalculateAAIndex(proteinSequence):\n",
    "    \"\"\"\n",
    "    Properitys= {'BLAM930101': {'A': 0.96, ' R': 0.77, ' N': 0.39, ' D': 0.42, ' C': 0.42, ' Q': 0.8, ' E': 0.53, ' G': 0.0, ' H': 0.57, ' I': 0.84, ' L': 0.92, ' K': 0.73, ' M': 0.86, ' F': 0.59, ' P': -2.5, ' S': 0.53, ' T': 0.54, ' W': 0.58, ' Y': 0.72, ' V': 0.63}, 'BIOV880101': {'A': 16.0, ' R': -70.0, ' N': -74.0, ' D': -78.0, ' C': 168.0, ' Q': -73.0, ' E': -106.0, ' G': -13.0, ' H': 50.0, ' I': 151.0, ' L': 16.0, ' K': -70.0, ' M': -74.0, ' F': -78.0, ' P': 168.0, ' S': -73.0, ' T': -106.0, ' W': -13.0, ' Y': 50.0, ' V': 151.0}, 'MAXF760101': {'A': 1.43, ' R': 1.18, ' N': 0.64, ' D': 0.92, ' C': 0.94, ' Q': 1.22, ' E': 1.67, ' G': 0.46, ' H': 0.98, ' I': 1.04, ' L': 1.36, ' K': 1.27, ' M': 1.53, ' F': 1.19, ' P': 0.49, ' S': 0.7, ' T': 0.78, ' W': 1.01, ' Y': 0.69, ' V': 0.98}, 'TSAJ990101': {'A': 89.3, ' R': 190.3, ' N': 122.4, ' D': 114.4, ' C': 102.5, ' Q': 146.9, ' E': 138.8, ' G': 63.8, ' H': 157.5, ' I': 163.0, ' L': 163.1, ' K': 165.1, ' M': 165.8, ' F': 190.8, ' P': 121.6, ' S': 94.2, ' T': 119.6, ' W': 226.4, ' Y': 194.6, ' V': 138.2}, 'NAKH920108': {'A': 9.36, ' R': 0.27, ' N': 2.31, ' D': 0.94, ' C': 2.56, ' Q': 1.14, ' E': 0.94, ' G': 6.17, ' H': 0.47, ' I': 13.73, ' L': 9.36, ' K': 0.27, ' M': 2.31, ' F': 0.94, ' P': 2.56, ' S': 1.14, ' T': 0.94, ' W': 6.17, ' Y': 0.47, ' V': 13.73}, 'CEDJ970104': {'A': 7.9, ' R': 4.9, ' N': 4.0, ' D': 5.5, ' C': 1.9, ' Q': 4.4, ' E': 7.1, ' G': 7.1, ' H': 2.1, ' I': 5.2, ' L': 8.6, ' K': 6.7, ' M': 2.4, ' F': 3.9, ' P': 5.3, ' S': 6.6, ' T': 5.3, ' W': 1.2, ' Y': 3.1, ' V': 6.8}, 'LIFS790101': {'A': 0.92, ' R': 0.93, ' N': 0.6, ' D': 0.48, ' C': 1.16, ' Q': 0.95, ' E': 0.61, ' G': 0.61, ' H': 0.93, ' I': 1.81, ' L': -0.37, ' K': 0.33, ' M': -0.3, ' F': -0.38, ' P': 0.19, ' S': 0.12, ' T': 0.03, ' W': -0.33, ' Y': -0.29, ' V': -0.29}}\n",
    "    input:\n",
    "            proteinsequence: 是一个蛋白质序列， str\n",
    "    output:\n",
    "            result: 是一个包含20*8=160 个键值对的 字典 包含每一个氨基酸理化性质的值的均值\n",
    "    \n",
    "    \"\"\"\n",
    "    #AAIdex_8features\n",
    "    result={}\n",
    "\n",
    "    for ProperityName,Properity in AAIdex_8features.items():\n",
    "        sequence = proteinSequence\n",
    "        for aminoAcid,aminoAcidvalue in Properity.items():\n",
    "            result[ProperityName+aminoAcid] = round(float(sequence.count(aminoAcid)*aminoAcidvalue)/len(sequence),30)\n",
    "    return result"
   ]
  },
  {
   "cell_type": "code",
   "execution_count": 19,
   "metadata": {},
   "outputs": [
    {
     "data": {
      "text/plain": [
       "{'BLAM930101A': 0.0,\n",
       " 'BLAM930101 R': 0.0,\n",
       " 'BLAM930101 N': 0.0,\n",
       " 'BLAM930101 D': 0.0,\n",
       " 'BLAM930101 C': 0.0,\n",
       " 'BLAM930101 Q': 0.0,\n",
       " 'BLAM930101 E': 0.0,\n",
       " 'BLAM930101 G': 0.0,\n",
       " 'BLAM930101 H': 0.0,\n",
       " 'BLAM930101 I': 0.0,\n",
       " 'BLAM930101 L': 0.0,\n",
       " 'BLAM930101 K': 0.0,\n",
       " 'BLAM930101 M': 0.0,\n",
       " 'BLAM930101 F': 0.0,\n",
       " 'BLAM930101 P': -0.0,\n",
       " 'BLAM930101 S': 0.0,\n",
       " 'BLAM930101 T': 0.0,\n",
       " 'BLAM930101 W': 0.0,\n",
       " 'BLAM930101 Y': 0.0,\n",
       " 'BLAM930101 V': 0.0,\n",
       " 'BIOV880101A': 0.0,\n",
       " 'BIOV880101 R': -0.0,\n",
       " 'BIOV880101 N': -0.0,\n",
       " 'BIOV880101 D': -0.0,\n",
       " 'BIOV880101 C': 0.0,\n",
       " 'BIOV880101 Q': -0.0,\n",
       " 'BIOV880101 E': -0.0,\n",
       " 'BIOV880101 G': -0.0,\n",
       " 'BIOV880101 H': 0.0,\n",
       " 'BIOV880101 I': 0.0,\n",
       " 'BIOV880101 L': 0.0,\n",
       " 'BIOV880101 K': -0.0,\n",
       " 'BIOV880101 M': -0.0,\n",
       " 'BIOV880101 F': -0.0,\n",
       " 'BIOV880101 P': 0.0,\n",
       " 'BIOV880101 S': -0.0,\n",
       " 'BIOV880101 T': -0.0,\n",
       " 'BIOV880101 W': -0.0,\n",
       " 'BIOV880101 Y': 0.0,\n",
       " 'BIOV880101 V': 0.0,\n",
       " 'MAXF760101A': 0.0,\n",
       " 'MAXF760101 R': 0.0,\n",
       " 'MAXF760101 N': 0.0,\n",
       " 'MAXF760101 D': 0.0,\n",
       " 'MAXF760101 C': 0.0,\n",
       " 'MAXF760101 Q': 0.0,\n",
       " 'MAXF760101 E': 0.0,\n",
       " 'MAXF760101 G': 0.0,\n",
       " 'MAXF760101 H': 0.0,\n",
       " 'MAXF760101 I': 0.0,\n",
       " 'MAXF760101 L': 0.0,\n",
       " 'MAXF760101 K': 0.0,\n",
       " 'MAXF760101 M': 0.0,\n",
       " 'MAXF760101 F': 0.0,\n",
       " 'MAXF760101 P': 0.0,\n",
       " 'MAXF760101 S': 0.0,\n",
       " 'MAXF760101 T': 0.0,\n",
       " 'MAXF760101 W': 0.0,\n",
       " 'MAXF760101 Y': 0.0,\n",
       " 'MAXF760101 V': 0.0,\n",
       " 'TSAJ990101A': 0.0,\n",
       " 'TSAJ990101 R': 0.0,\n",
       " 'TSAJ990101 N': 0.0,\n",
       " 'TSAJ990101 D': 0.0,\n",
       " 'TSAJ990101 C': 0.0,\n",
       " 'TSAJ990101 Q': 0.0,\n",
       " 'TSAJ990101 E': 0.0,\n",
       " 'TSAJ990101 G': 0.0,\n",
       " 'TSAJ990101 H': 0.0,\n",
       " 'TSAJ990101 I': 0.0,\n",
       " 'TSAJ990101 L': 0.0,\n",
       " 'TSAJ990101 K': 0.0,\n",
       " 'TSAJ990101 M': 0.0,\n",
       " 'TSAJ990101 F': 0.0,\n",
       " 'TSAJ990101 P': 0.0,\n",
       " 'TSAJ990101 S': 0.0,\n",
       " 'TSAJ990101 T': 0.0,\n",
       " 'TSAJ990101 W': 0.0,\n",
       " 'TSAJ990101 Y': 0.0,\n",
       " 'TSAJ990101 V': 0.0,\n",
       " 'NAKH920108A': 0.0,\n",
       " 'NAKH920108 R': 0.0,\n",
       " 'NAKH920108 N': 0.0,\n",
       " 'NAKH920108 D': 0.0,\n",
       " 'NAKH920108 C': 0.0,\n",
       " 'NAKH920108 Q': 0.0,\n",
       " 'NAKH920108 E': 0.0,\n",
       " 'NAKH920108 G': 0.0,\n",
       " 'NAKH920108 H': 0.0,\n",
       " 'NAKH920108 I': 0.0,\n",
       " 'NAKH920108 L': 0.0,\n",
       " 'NAKH920108 K': 0.0,\n",
       " 'NAKH920108 M': 0.0,\n",
       " 'NAKH920108 F': 0.0,\n",
       " 'NAKH920108 P': 0.0,\n",
       " 'NAKH920108 S': 0.0,\n",
       " 'NAKH920108 T': 0.0,\n",
       " 'NAKH920108 W': 0.0,\n",
       " 'NAKH920108 Y': 0.0,\n",
       " 'NAKH920108 V': 0.0,\n",
       " 'CEDJ970104A': 0.0,\n",
       " 'CEDJ970104 R': 0.0,\n",
       " 'CEDJ970104 N': 0.0,\n",
       " 'CEDJ970104 D': 0.0,\n",
       " 'CEDJ970104 C': 0.0,\n",
       " 'CEDJ970104 Q': 0.0,\n",
       " 'CEDJ970104 E': 0.0,\n",
       " 'CEDJ970104 G': 0.0,\n",
       " 'CEDJ970104 H': 0.0,\n",
       " 'CEDJ970104 I': 0.0,\n",
       " 'CEDJ970104 L': 0.0,\n",
       " 'CEDJ970104 K': 0.0,\n",
       " 'CEDJ970104 M': 0.0,\n",
       " 'CEDJ970104 F': 0.0,\n",
       " 'CEDJ970104 P': 0.0,\n",
       " 'CEDJ970104 S': 0.0,\n",
       " 'CEDJ970104 T': 0.0,\n",
       " 'CEDJ970104 W': 0.0,\n",
       " 'CEDJ970104 Y': 0.0,\n",
       " 'CEDJ970104 V': 0.0,\n",
       " 'LIFS790101A': 0.0,\n",
       " 'LIFS790101 R': 0.0,\n",
       " 'LIFS790101 N': 0.0,\n",
       " 'LIFS790101 D': 0.0,\n",
       " 'LIFS790101 C': 0.0,\n",
       " 'LIFS790101 Q': 0.0,\n",
       " 'LIFS790101 E': 0.0,\n",
       " 'LIFS790101 G': 0.0,\n",
       " 'LIFS790101 H': 0.0,\n",
       " 'LIFS790101 I': 0.0,\n",
       " 'LIFS790101 L': -0.0,\n",
       " 'LIFS790101 K': 0.0,\n",
       " 'LIFS790101 M': -0.0,\n",
       " 'LIFS790101 F': -0.0,\n",
       " 'LIFS790101 P': 0.0,\n",
       " 'LIFS790101 S': 0.0,\n",
       " 'LIFS790101 T': 0.0,\n",
       " 'LIFS790101 W': -0.0,\n",
       " 'LIFS790101 Y': -0.0,\n",
       " 'LIFS790101 V': -0.0}"
      ]
     },
     "execution_count": 19,
     "metadata": {},
     "output_type": "execute_result"
    }
   ],
   "source": [
    "protein = 'NNNNNNN'\n",
    "\n",
    "AAIndex = CalculateAAIndex(protein)\n",
    "AAIndex"
   ]
  },
  {
   "cell_type": "code",
   "execution_count": null,
   "metadata": {},
   "outputs": [],
   "source": []
  }
 ],
 "metadata": {
  "kernelspec": {
   "display_name": "Python 3",
   "language": "python",
   "name": "python3"
  },
  "language_info": {
   "codemirror_mode": {
    "name": "ipython",
    "version": 3
   },
   "file_extension": ".py",
   "mimetype": "text/x-python",
   "name": "python",
   "nbconvert_exporter": "python",
   "pygments_lexer": "ipython3",
   "version": "3.8.5"
  },
  "latex_envs": {
   "LaTeX_envs_menu_present": true,
   "autoclose": false,
   "autocomplete": true,
   "bibliofile": "biblio.bib",
   "cite_by": "apalike",
   "current_citInitial": 1,
   "eqLabelWithNumbers": true,
   "eqNumInitial": 1,
   "hotkeys": {
    "equation": "Ctrl-E",
    "itemize": "Ctrl-I"
   },
   "labels_anchors": false,
   "latex_user_defs": false,
   "report_style_numbering": false,
   "user_envs_cfg": false
  },
  "toc": {
   "base_numbering": 1,
   "nav_menu": {},
   "number_sections": true,
   "sideBar": true,
   "skip_h1_title": false,
   "title_cell": "Table of Contents",
   "title_sidebar": "Contents",
   "toc_cell": false,
   "toc_position": {},
   "toc_section_display": true,
   "toc_window_display": false
  }
 },
 "nbformat": 4,
 "nbformat_minor": 4
}
